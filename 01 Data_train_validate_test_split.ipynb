{
 "cells": [
  {
   "cell_type": "markdown",
   "metadata": {},
   "source": [
    "Modified from following project:\n",
    "https://github.com/medp1030/Image-Recognition-with-Deep-Learning\n",
    "\n",
    "This project using the ImageDataGenerator and flow_from_directory() functionality of Keras, so need to create a directory structure where images of each class sits within its own sub-directory in the training and validation directories.\n",
    "\n",
    "The purpose of this notebook is to split raw_images in raw_date folder into _train, _val, _test and _test_orig subfolder under data folder.\n",
    "\n",
    "### The whole project should look like following:\n",
    "\n",
    "```\n",
    "xx-oo.ipynb\n",
    "raw data/\n",
    "└── raw data/subclass01/\n",
    "                ├── xxxxx.jpg\n",
    "                ├── xxxxx.jpg\n",
    "                ├── ..\n",
    "                └── xxxxx.jpg\n",
    "             subclass02/\n",
    "                ├── xxxxx.jpg\n",
    "                ├── xxxxx.jpg\n",
    "                ├── ..\n",
    "                └── xxxxx.jpg\n",
    "             subclass03/\n",
    "                ├── xxxxx.jpg\n",
    "                ├── xxxxx.jpg\n",
    "                ├── ..\n",
    "                └── xxxxx.jpg\n",
    "data/\n",
    "└── train/\n",
    "    ├── subclass01\n",
    "xxxxx.jpg\n",
    "    ├── xxxxx.jpg\n",
    "    ├── ..\n",
    "    └── xxxxx.jpg\n",
    "    val/\n",
    "    ├── xxxxx.jpg\n",
    "    ├── xxxxx.jpg\n",
    "    ├── ..\n",
    "    └── xxxxx.jpg\n",
    "    test/\n",
    "    ├── xxxxx.jpg\n",
    "    ├── xxxxx.jpg\n",
    "    ├── ..\n",
    "    └── xxxxx.jpg\n",
    "    test_org/\n",
    "    ├── xxxxx.jpg\n",
    "    ├── xxxxx.jpg\n",
    "    ├── ..\n",
    "    └── xxxxx.jpg\n",
    "    \n",
    "```"
   ]
  },
  {
   "cell_type": "code",
   "execution_count": 1,
   "metadata": {},
   "outputs": [
    {
     "name": "stdout",
     "output_type": "stream",
     "text": [
      "Platform: Darwin-19.6.0-x86_64-i386-64bit\n",
      "Tensorflow version: 2.3.0-rc2\n",
      "Keras version: 2.4.0\n"
     ]
    }
   ],
   "source": [
    "# Get information of platform and version of tensorflow and keras\n",
    "\n",
    "import platform\n",
    "import tensorflow as tf\n",
    "from tensorflow import keras\n",
    "\n",
    "print(\"Platform: {}\".format(platform.platform()))\n",
    "print(\"Tensorflow version: {}\".format(tf.__version__))\n",
    "print(\"Keras version: {}\".format(keras.__version__))"
   ]
  },
  {
   "cell_type": "code",
   "execution_count": 2,
   "metadata": {},
   "outputs": [],
   "source": [
    "import glob, os, shutil\n",
    "from shutil import copyfile \n",
    "from sklearn.model_selection import train_test_split\n",
    "from tqdm import tqdm"
   ]
  },
  {
   "cell_type": "markdown",
   "metadata": {},
   "source": [
    "https://blog.csdn.net/haoni123321/article/details/13624537\n",
    "https://blog.csdn.net/silviakafka/article/details/46744961"
   ]
  },
  {
   "cell_type": "code",
   "execution_count": 3,
   "metadata": {},
   "outputs": [
    {
     "name": "stdout",
     "output_type": "stream",
     "text": [
      "['raw_data/strabismus_crop_raw_data/strabismus', 'raw_data/strabismus_crop_raw_data/normal']\n"
     ]
    }
   ],
   "source": [
    "# raw data\n",
    "files = glob.glob('raw_data/strabismus_crop_raw_data/*')\n",
    "\n",
    "print(files)"
   ]
  },
  {
   "cell_type": "code",
   "execution_count": 4,
   "metadata": {},
   "outputs": [
    {
     "data": {
      "text/plain": [
       "[4805, 4802]"
      ]
     },
     "execution_count": 4,
     "metadata": {},
     "output_type": "execute_result"
    }
   ],
   "source": [
    "files = [glob.glob(i+'/*.jpg') for i in files]\n",
    "# print(files)\n",
    "[len(i) for i in files]"
   ]
  },
  {
   "cell_type": "code",
   "execution_count": 5,
   "metadata": {},
   "outputs": [
    {
     "data": {
      "text/plain": [
       "['strabismus', 'normal']"
      ]
     },
     "execution_count": 5,
     "metadata": {},
     "output_type": "execute_result"
    }
   ],
   "source": [
    "[files[i][0].rsplit('/')[-2] for i in range(len(files))]"
   ]
  },
  {
   "cell_type": "code",
   "execution_count": 6,
   "metadata": {},
   "outputs": [],
   "source": [
    "# To create 'data' folder\n",
    "destination = \"data\"\n",
    "if not os.path.exists(destination):\n",
    "    os.makedirs(destination)\n",
    "    \n",
    "# To create 'logs' folder\n",
    "train_logs = \"logs\"\n",
    "if not os.path.exists(train_logs):\n",
    "    os.makedirs(train_logs)\n",
    "    \n",
    "# To create 'csv' folder\n",
    "train_logs = \"csv\"\n",
    "if not os.path.exists(train_logs):\n",
    "    os.makedirs(train_logs)"
   ]
  },
  {
   "cell_type": "code",
   "execution_count": 7,
   "metadata": {},
   "outputs": [
    {
     "data": {
      "text/plain": [
       "4802"
      ]
     },
     "execution_count": 7,
     "metadata": {},
     "output_type": "execute_result"
    }
   ],
   "source": [
    "for i in range(len(files)):\n",
    "    x = files[i]\n",
    "    train, validate = train_test_split(x, test_size = 0.2, random_state = 42)\n",
    "\n",
    "len(x)"
   ]
  },
  {
   "cell_type": "markdown",
   "metadata": {},
   "source": [
    "## train example\n",
    "raw_data/leaves_raw_data/Leaf_01/image_0009.jpg\n",
    "* subfolder was at [2]\n",
    "* image was at [3]"
   ]
  },
  {
   "cell_type": "code",
   "execution_count": 8,
   "metadata": {},
   "outputs": [],
   "source": [
    "# Create folder data/train with split size 0.8\n",
    "for i in range(len(files)):\n",
    "    x = files[i]\n",
    "    train, validate = train_test_split(x, test_size = 0.2, random_state = 42)\n",
    "\n",
    "    train_loc = train[0].rsplit(\"/\")[2]\n",
    "    # print(train)\n",
    "    if not os.path.exists(destination+ \"/\" + \"train/\" + train_loc):\n",
    "        os.makedirs(destination+ \"/\" + \"train/\" + train_loc)\n",
    "    for j in train:\n",
    "        #print(j)\n",
    "        copyfile(j, destination+ \"/\" + \"train/\" + train_loc + \"/\"+ j.rsplit(\"/\")[3])\n",
    "        \n",
    "    validate_loc = validate[0].rsplit(\"/\")[2]\n",
    "    #print(validate[0])\n",
    "    if not os.path.exists(destination+ \"/\" + \"temp\" + \"_val/\" + validate_loc):\n",
    "        os.makedirs(destination+ \"/\" + \"temp\" + \"_val/\" + validate_loc)\n",
    "    for m in validate:\n",
    "        copyfile(m, destination+ \"/\" + \"temp\" + \"_val/\" + validate_loc+\"/\" + m.rsplit(\"/\")[3])\n",
    "    "
   ]
  },
  {
   "cell_type": "code",
   "execution_count": 9,
   "metadata": {},
   "outputs": [
    {
     "data": {
      "text/plain": [
       "[3844, 3841]"
      ]
     },
     "execution_count": 9,
     "metadata": {},
     "output_type": "execute_result"
    }
   ],
   "source": [
    "train_folders = glob.glob(\"data/train/*\")\n",
    "train_images = [glob.glob(i+\"/*.jpg\") for i  in train_folders]\n",
    "\n",
    "[len(i) for i in train_images]"
   ]
  },
  {
   "cell_type": "code",
   "execution_count": 10,
   "metadata": {},
   "outputs": [
    {
     "data": {
      "text/plain": [
       "[961, 961]"
      ]
     },
     "execution_count": 10,
     "metadata": {},
     "output_type": "execute_result"
    }
   ],
   "source": [
    "temp_folders = glob.glob('data/temp_val/*')\n",
    "temp_images = [glob.glob(i+'/*.jpg') for i in temp_folders]\n",
    "\n",
    "[len(i) for i in temp_images]"
   ]
  },
  {
   "cell_type": "markdown",
   "metadata": {},
   "source": [
    "data/temp_train/Leaf_01/image_0016.jpg"
   ]
  },
  {
   "cell_type": "code",
   "execution_count": 11,
   "metadata": {},
   "outputs": [
    {
     "name": "stdout",
     "output_type": "stream",
     "text": [
      "data/temp_val/strabismus/DSC03940_0.jpg\n",
      "data/temp_val/normal/V_0226_10_0.jpg\n"
     ]
    }
   ],
   "source": [
    "# Split temp_val into _val and _test_org\n",
    "\n",
    "for i in range(len(temp_images)):\n",
    "    x = temp_images[i]\n",
    "    val, test = train_test_split(x, test_size = 0.5, random_state = 42)\n",
    "    \n",
    "    val_loc = val[0].rsplit(\"/\")[2]\n",
    "    print(val[0])\n",
    "    if not os.path.exists(destination + \"/\" + \"val/\" + val_loc):\n",
    "        os.makedirs(destination + \"/\" + \"val/\" + val_loc)\n",
    "    for j in val:\n",
    "        copyfile(j, destination + \"/\" + \"val/\" + val_loc + \"/\"+ j.rsplit(\"/\")[3])\n",
    "    \n",
    "    test_loc = test[0].rsplit(\"/\")[2]\n",
    "    #print(test[0])\n",
    "    if not os.path.exists(destination+ \"/\" + \"test/\" + test_loc):\n",
    "        os.makedirs(destination+ \"/\" + \"test/\" + test_loc)\n",
    "    for n in test:\n",
    "        copyfile(n, destination+ \"/\" + \"test/\" + test_loc+\"/\" + n.rsplit(\"/\")[3])"
   ]
  },
  {
   "cell_type": "code",
   "execution_count": 12,
   "metadata": {},
   "outputs": [
    {
     "data": {
      "text/plain": [
       "7685"
      ]
     },
     "execution_count": 12,
     "metadata": {},
     "output_type": "execute_result"
    }
   ],
   "source": [
    "files = glob.glob(\"data/train/*\")\n",
    "files = [glob.glob(i+\"/*.jpg\") for i  in files]\n",
    "sum([len(i) for i in files])"
   ]
  },
  {
   "cell_type": "code",
   "execution_count": 13,
   "metadata": {},
   "outputs": [
    {
     "data": {
      "text/plain": [
       "962"
      ]
     },
     "execution_count": 13,
     "metadata": {},
     "output_type": "execute_result"
    }
   ],
   "source": [
    "files = glob.glob(\"data/test/*\")\n",
    "files = [glob.glob(i+\"/*.jpg\") for i  in files]\n",
    "sum([len(i) for i in files])"
   ]
  },
  {
   "cell_type": "code",
   "execution_count": 14,
   "metadata": {},
   "outputs": [
    {
     "data": {
      "text/plain": [
       "960"
      ]
     },
     "execution_count": 14,
     "metadata": {},
     "output_type": "execute_result"
    }
   ],
   "source": [
    "files = glob.glob(\"data/val/*\")\n",
    "files = [glob.glob(i+\"/*.jpg\") for i  in files]\n",
    "sum([len(i) for i in files])"
   ]
  },
  {
   "cell_type": "code",
   "execution_count": 15,
   "metadata": {},
   "outputs": [],
   "source": [
    "test_orig_files = glob.glob('data/test/*')"
   ]
  },
  {
   "cell_type": "code",
   "execution_count": 16,
   "metadata": {},
   "outputs": [],
   "source": [
    "test_orig_files = [glob.glob(i+'/*.jpg') for i in test_orig_files]"
   ]
  },
  {
   "cell_type": "code",
   "execution_count": 17,
   "metadata": {},
   "outputs": [],
   "source": [
    "destination = \"data/test_orig\"\n",
    "if not os.path.exists(destination):\n",
    "    os.makedirs(destination)"
   ]
  },
  {
   "cell_type": "code",
   "execution_count": 18,
   "metadata": {},
   "outputs": [],
   "source": [
    "for i in range(len(files)):\n",
    "    x = test_orig_files[i]\n",
    "    for m in x:\n",
    "        file_prefix = x[0].rsplit(\"/\")[2]\n",
    "        copyfile(m, destination + \"/\" + file_prefix + \"_\" + m.rsplit(\"/\")[3])"
   ]
  },
  {
   "cell_type": "code",
   "execution_count": 19,
   "metadata": {},
   "outputs": [],
   "source": [
    "shutil.rmtree(\"data/temp_val\", ignore_errors=False, onerror=None)"
   ]
  },
  {
   "cell_type": "code",
   "execution_count": null,
   "metadata": {},
   "outputs": [],
   "source": [
    "# shutil.rmtree(\"data\", ignore_errors=False, onerror=None)"
   ]
  },
  {
   "cell_type": "code",
   "execution_count": null,
   "metadata": {},
   "outputs": [],
   "source": [
    "# shutil.rmtree(\"data_train\", ignore_errors=False, onerror=None)"
   ]
  },
  {
   "cell_type": "code",
   "execution_count": null,
   "metadata": {},
   "outputs": [],
   "source": []
  }
 ],
 "metadata": {
  "anaconda-cloud": {},
  "kernelspec": {
   "display_name": "Python 3",
   "language": "python",
   "name": "python3"
  },
  "language_info": {
   "codemirror_mode": {
    "name": "ipython",
    "version": 3
   },
   "file_extension": ".py",
   "mimetype": "text/x-python",
   "name": "python",
   "nbconvert_exporter": "python",
   "pygments_lexer": "ipython3",
   "version": "3.7.7"
  },
  "toc": {
   "base_numbering": 1,
   "nav_menu": {},
   "number_sections": true,
   "sideBar": true,
   "skip_h1_title": false,
   "title_cell": "Table of Contents",
   "title_sidebar": "Contents",
   "toc_cell": false,
   "toc_position": {},
   "toc_section_display": true,
   "toc_window_display": false
  }
 },
 "nbformat": 4,
 "nbformat_minor": 1
}
